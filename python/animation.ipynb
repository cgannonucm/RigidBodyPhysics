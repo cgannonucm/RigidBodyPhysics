{
 "cells": [
  {
   "cell_type": "code",
   "execution_count": 3,
   "metadata": {},
   "outputs": [],
   "source": [
    "import numpy as np;\n",
    "import csv;\n",
    "from matplotlib import pyplot as plt;\n",
    "from matplotlib import animation;"
   ]
  },
  {
   "cell_type": "code",
   "execution_count": 49,
   "metadata": {},
   "outputs": [],
   "source": [
    "def read_csv_qvt(fname):\n",
    "    q = []\n",
    "    v = []\n",
    "    t = []\n",
    "\n",
    "    dim = 3\n",
    "\n",
    "\n",
    "    with open(fname, mode=\"r\") as csv_file:\n",
    "        csv_reader = csv.DictReader(csv_file)\n",
    "\n",
    "        cols = len(csv_reader.fieldnames)\n",
    "\n",
    "        pcount = (cols - 1) // (2 * dim)\n",
    "\n",
    "        for i in range(pcount):\n",
    "            q.append([])\n",
    "            v.append([])\n",
    "\n",
    "        for row in csv_reader:\n",
    "            t.append(float(row[\"t\"]))\n",
    "\n",
    "            for i in range(pcount):\n",
    "                q[i].append([float(row[f\"X{i}\"]), float(row[f\"Y{i}\"]), float(row[f\"Z{i}\"])])\n",
    "                v[i].append([float(row[f\"X'{i}\"]), float(row[f\"Y'{i}\"]), float(row[f\"Z'{i}\"])])\n",
    "\n",
    "    return (q,v,t)\n"
   ]
  },
  {
   "cell_type": "code",
   "execution_count": 132,
   "metadata": {},
   "outputs": [],
   "source": [
    "qvt = read_csv_qvt(\"pendulum3.csv\")\n",
    "q = qvt[0]\n",
    "v = qvt[1]\n",
    "t = qvt[2]\n",
    "pn = len(q)"
   ]
  },
  {
   "cell_type": "code",
   "execution_count": 133,
   "metadata": {},
   "outputs": [
    {
     "data": {
      "image/png": "[encoded data removed]",
      "text/plain": [
       "<Figure size 700x650 with 1 Axes>"
      ]
     },
     "metadata": {
      "needs_background": "light"
     },
     "output_type": "display_data"
    }
   ],
   "source": [
    "XLIM = (-3.3,3.3)\n",
    "YLIM = (-3.3,3.3)\n",
    "CIRCLER = 0.05\n",
    "\n",
    "\n",
    "fig = plt.figure()\n",
    "fig.set_dpi(100)\n",
    "fig.set_size_inches(7, 6.5)\n",
    "\n",
    "ax = plt.axes(xlim=XLIM, ylim=YLIM)\n",
    "\n",
    "particles = [plt.Circle((q[n][0][0], q[n][0][1]), CIRCLER, fc='y') for n in range(pn)]\n",
    "\n",
    "\n",
    "interval = (t[1] - t[0]) * 1000\n",
    "frames = len(t)\n",
    "\n",
    "def init():\n",
    "    for n,p in enumerate(particles):\n",
    "        p.center = (q[n][0][0], q[n][0][1])\n",
    "        ax.add_patch(p)\n",
    "    return particles\n",
    "\n",
    "frame = 0\n",
    "\n",
    "def animate(i):\n",
    "    global frame,particles\n",
    "\n",
    "    for n,p in enumerate(particles):\n",
    "        x = q[n][frame][0]\n",
    "        y = q[n][frame][1]\n",
    "        p.center = (x, y)\n",
    "#\n",
    "    frame += 1\n",
    "    return particles[0],\n",
    "\n",
    "anim = animation.FuncAnimation(fig, animate, \n",
    "                               init_func=init, \n",
    "                               frames=frames, \n",
    "                               interval=interval,\n",
    "                               blit=True\n",
    "                               )\n",
    "plt.show()\n"
   ]
  },
  {
   "cell_type": "code",
   "execution_count": 134,
   "metadata": {},
   "outputs": [],
   "source": [
    "anim.save('pendulum3.mp4', fps=30, \n",
    "          extra_args=['-vcodec', 'h264',\n",
    "                      '-pix_fmt', 'yuv420p'])"
   ]
  },
  {
   "cell_type": "code",
   "execution_count": null,
   "metadata": {},
   "outputs": [],
   "source": []
  }
 ],
 "metadata": {
  "kernelspec": {
   "display_name": "Python 3.10.7 64-bit",
   "language": "python",
   "name": "python3"
  },
  "language_info": {
   "codemirror_mode": {
    "name": "ipython",
    "version": 3
   },
   "file_extension": ".py",
   "mimetype": "text/x-python",
   "name": "python",
   "nbconvert_exporter": "python",
   "pygments_lexer": "ipython3",
   "version": "3.10.7"
  },
  "orig_nbformat": 4,
  "vscode": {
   "interpreter": {
    "hash": "a063ba3d0e917a410c150429d24b5fa5fb17afad2e7ba4d9b925e9d40c098669"
   }
  }
 },
 "nbformat": 4,
 "nbformat_minor": 2
}
